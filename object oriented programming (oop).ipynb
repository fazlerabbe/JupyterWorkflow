{
 "cells": [
  {
   "cell_type": "code",
   "execution_count": 18,
   "id": "6b6db322",
   "metadata": {},
   "outputs": [],
   "source": [
    "class Student:\n",
    "    # properties -> attributes->variable(global var, local var), functions-> constructor, function\n",
    "    # attr\n",
    "    name = \"\" # global var\n",
    "    dept = \"\" # global var\n",
    "    sem = \"\"\n",
    "    \n",
    "    # constructor -> global var initialize\n",
    "    def __init__(self, name, dept, sem):\n",
    "        self.name = name\n",
    "        self.dept = dept\n",
    "        self.sem  = sem\n",
    "    \n",
    "    def get_student_credit(self, ):\n",
    "        # attr -> local var\n",
    "        credit = 10\n",
    "        return credit\n",
    "    \n",
    "    def total_amount_for_reg(self):\n",
    "        return self.get_student_credit()*5000\n",
    "    \n",
    "    "
   ]
  },
  {
   "cell_type": "code",
   "execution_count": 19,
   "id": "e67e0555",
   "metadata": {},
   "outputs": [],
   "source": [
    "# create a object\n",
    "student = Student(\"Tamim\", \"CSE\", \"5th\")"
   ]
  },
  {
   "cell_type": "code",
   "execution_count": 4,
   "id": "02a79842",
   "metadata": {},
   "outputs": [
    {
     "data": {
      "text/plain": [
       "'Tamim'"
      ]
     },
     "execution_count": 4,
     "metadata": {},
     "output_type": "execute_result"
    }
   ],
   "source": [
    "# call a object\n",
    "student.name"
   ]
  },
  {
   "cell_type": "code",
   "execution_count": 6,
   "id": "d0edb31e",
   "metadata": {},
   "outputs": [
    {
     "data": {
      "text/plain": [
       "'CSE'"
      ]
     },
     "execution_count": 6,
     "metadata": {},
     "output_type": "execute_result"
    }
   ],
   "source": [
    "student.dept"
   ]
  },
  {
   "cell_type": "code",
   "execution_count": 16,
   "id": "032e87ee",
   "metadata": {},
   "outputs": [
    {
     "data": {
      "text/plain": [
       "'5th'"
      ]
     },
     "execution_count": 16,
     "metadata": {},
     "output_type": "execute_result"
    }
   ],
   "source": [
    "student.sem"
   ]
  },
  {
   "cell_type": "code",
   "execution_count": 20,
   "id": "31623fa7",
   "metadata": {},
   "outputs": [
    {
     "data": {
      "text/plain": [
       "50000"
      ]
     },
     "execution_count": 20,
     "metadata": {},
     "output_type": "execute_result"
    }
   ],
   "source": [
    "student.total_amount_for_reg()"
   ]
  },
  {
   "cell_type": "code",
   "execution_count": 12,
   "id": "dec32448",
   "metadata": {},
   "outputs": [
    {
     "data": {
      "text/plain": [
       "10"
      ]
     },
     "execution_count": 12,
     "metadata": {},
     "output_type": "execute_result"
    }
   ],
   "source": [
    "student.get_student_credit()"
   ]
  },
  {
   "cell_type": "code",
   "execution_count": 1,
   "id": "666e813f",
   "metadata": {},
   "outputs": [],
   "source": [
    "# create a class Employee : attr: first_name, last_name, dept, joining_date\n",
    "# -> function (attr) ex: get_first_name() return first_name"
   ]
  },
  {
   "cell_type": "code",
   "execution_count": 21,
   "id": "2a36e55e",
   "metadata": {},
   "outputs": [],
   "source": [
    "class Employee:\n",
    "    first_name=\"\"\n",
    "    last_name=\"\"\n",
    "    dept=\"\"\n",
    "    joining_date=\"\"\n",
    "    def __init__(self,first_name,last_name,dept,joining_date):\n",
    "        self.first_name=first_name\n",
    "        self.last_name=last_name\n",
    "        self.dept=dept\n",
    "        self.joining_date=joining_date\n",
    "    def get_first_name(self):\n",
    "        return self.first_name\n",
    "    def get_last_name(self):\n",
    "        return self.last_name \n",
    "    def get_dept(self):\n",
    "        return self.dept\n",
    "    def get_joining_date(self):\n",
    "        return self.joining_date"
   ]
  },
  {
   "cell_type": "code",
   "execution_count": 24,
   "id": "7bb038d7",
   "metadata": {},
   "outputs": [],
   "source": [
    "\n",
    "employee=Employee(\"fazle\",\"rabbee\",\"swe\",\"1-1-2019\")"
   ]
  },
  {
   "cell_type": "code",
   "execution_count": 25,
   "id": "ce48c6a9",
   "metadata": {},
   "outputs": [
    {
     "data": {
      "text/plain": [
       "'fazle'"
      ]
     },
     "execution_count": 25,
     "metadata": {},
     "output_type": "execute_result"
    }
   ],
   "source": [
    "employee.get_first_name()"
   ]
  },
  {
   "cell_type": "code",
   "execution_count": 26,
   "id": "45a6b2ce",
   "metadata": {},
   "outputs": [
    {
     "data": {
      "text/plain": [
       "'rabbe'"
      ]
     },
     "execution_count": 26,
     "metadata": {},
     "output_type": "execute_result"
    }
   ],
   "source": [
    "employee.get_last_name()\n"
   ]
  },
  {
   "cell_type": "code",
   "execution_count": 28,
   "id": "0b6f5c01",
   "metadata": {},
   "outputs": [
    {
     "data": {
      "text/plain": [
       "'swe'"
      ]
     },
     "execution_count": 28,
     "metadata": {},
     "output_type": "execute_result"
    }
   ],
   "source": [
    "employee.get_dept()"
   ]
  },
  {
   "cell_type": "code",
   "execution_count": 29,
   "id": "d1744f11",
   "metadata": {},
   "outputs": [
    {
     "data": {
      "text/plain": [
       "'1-1-2019'"
      ]
     },
     "execution_count": 29,
     "metadata": {},
     "output_type": "execute_result"
    }
   ],
   "source": [
    "employee.get_joining_date()"
   ]
  },
  {
   "cell_type": "code",
   "execution_count": null,
   "id": "ea7cc69d",
   "metadata": {},
   "outputs": [],
   "source": []
  }
 ],
 "metadata": {
  "kernelspec": {
   "display_name": "Python 3",
   "language": "python",
   "name": "python3"
  },
  "language_info": {
   "codemirror_mode": {
    "name": "ipython",
    "version": 3
   },
   "file_extension": ".py",
   "mimetype": "text/x-python",
   "name": "python",
   "nbconvert_exporter": "python",
   "pygments_lexer": "ipython3",
   "version": "3.8.8"
  }
 },
 "nbformat": 4,
 "nbformat_minor": 5
}
